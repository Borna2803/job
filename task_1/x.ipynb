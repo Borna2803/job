{
 "cells": [
  {
   "cell_type": "code",
   "execution_count": 1,
   "metadata": {},
   "outputs": [],
   "source": [
    "import pandas as pd\n",
    "import numpy as np"
   ]
  },
  {
   "cell_type": "code",
   "execution_count": 2,
   "metadata": {},
   "outputs": [
    {
     "name": "stdout",
     "output_type": "stream",
     "text": [
      "   intime_weight  intime_zona1  intime_zona2  intime_additional_weight  \\\n",
      "0              2        2.7474        3.5670                     500.0   \n",
      "1              5        2.7474        3.7639                       NaN   \n",
      "2             10        3.0526        3.9623                       NaN   \n",
      "3             15        3.2053        4.3591                       NaN   \n",
      "4             20        3.5868        4.7545                       NaN   \n",
      "\n",
      "   intime_additional_price  intime_additional_price_zona2  overseas_weight  \\\n",
      "0                  73.3805                        99.0638              2.0   \n",
      "1                      NaN                            NaN              5.0   \n",
      "2                      NaN                            NaN             10.0   \n",
      "3                      NaN                            NaN             15.0   \n",
      "4                      NaN                            NaN             20.0   \n",
      "\n",
      "   overseas_price  overseas_additional_weight  overseas_additional_cost  \\\n",
      "0          2.9038                         1.0                    0.1247   \n",
      "1          3.6298                         NaN                       NaN   \n",
      "2          3.9525                         NaN                       NaN   \n",
      "3          4.2751                         NaN                       NaN   \n",
      "4          4.5171                         NaN                       NaN   \n",
      "\n",
      "   gls_weight  gls_zona1  gls_zona2  hp_weight  hp_price  \n",
      "0         2.0       3.26      13.96        1.0    2.1236  \n",
      "1         3.0       3.47      14.17        2.0    2.2563  \n",
      "2         5.0       3.68      14.38        5.0    2.4554  \n",
      "3        10.0       3.97      14.67       10.0    2.6545  \n",
      "4        15.0       4.25        NaN       15.0    2.9199  \n"
     ]
    }
   ],
   "source": [
    "data= pd.read_csv('dostave.csv')\n",
    "list= np.array(data['hp_price'])\n",
    "\n",
    "\n",
    "print(data.head())\n"
   ]
  },
  {
   "cell_type": "code",
   "execution_count": 4,
   "metadata": {},
   "outputs": [
    {
     "name": "stdout",
     "output_type": "stream",
     "text": [
      "{'a': 1}\n"
     ]
    }
   ],
   "source": [
    "dict = {}\n",
    "dict['a'] = 1\n",
    "print(dict)"
   ]
  }
 ],
 "metadata": {
  "kernelspec": {
   "display_name": "Python 3",
   "language": "python",
   "name": "python3"
  },
  "language_info": {
   "codemirror_mode": {
    "name": "ipython",
    "version": 3
   },
   "file_extension": ".py",
   "mimetype": "text/x-python",
   "name": "python",
   "nbconvert_exporter": "python",
   "pygments_lexer": "ipython3",
   "version": "3.10.10"
  },
  "orig_nbformat": 4,
  "vscode": {
   "interpreter": {
    "hash": "f5ea4975e12715c9a50ac32a8ee19ce331ffe683fa8a322c25dc560632c4a52b"
   }
  }
 },
 "nbformat": 4,
 "nbformat_minor": 2
}
